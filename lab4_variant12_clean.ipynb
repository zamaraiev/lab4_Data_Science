{
 "cells": [
  {
   "cell_type": "markdown",
   "metadata": {},
   "source": [
    "# Laboratory Work 4 - NumPy Library Basics\n",
    "**Variant 12**\n",
    "\n",
    "**Student:** Dmytro Zamaraiev"
   ]
  },
  {
   "cell_type": "markdown",
   "metadata": {},
   "source": [
    "### Exercise 2: Checkerboard Pattern\n",
    "\n",
    "**Task:** Enter the number n. Arrange 1 and 0 in a checkerboard pattern, starting with 0 in a matrix of size n×n, using slicing."
   ]
  },
  {
   "cell_type": "code",
   "execution_count": 45,
   "metadata": {},
   "outputs": [
    {
     "name": "stdin",
     "output_type": "stream",
     "text": [
      "Enter n:  8\n"
     ]
    },
    {
     "name": "stdout",
     "output_type": "stream",
     "text": [
      "NumPy result:\n",
      "[[0 1 0 1 0 1 0 1]\n",
      " [1 0 1 0 1 0 1 0]\n",
      " [0 1 0 1 0 1 0 1]\n",
      " [1 0 1 0 1 0 1 0]\n",
      " [0 1 0 1 0 1 0 1]\n",
      " [1 0 1 0 1 0 1 0]\n",
      " [0 1 0 1 0 1 0 1]\n",
      " [1 0 1 0 1 0 1 0]]\n",
      "\n",
      "NumPy time: 0.000123s\n",
      "Iterative time: 0.000113s\n",
      "Speedup: 0.9x\n",
      "\n",
      "Results match: True\n"
     ]
    }
   ],
   "source": [
    "import numpy as np\n",
    "import time\n",
    "\n",
    "def exercise_2_numpy(n):\n",
    "    matrix = np.zeros((n, n), dtype=int)\n",
    "    matrix[::2, 1::2] = 1\n",
    "    matrix[1::2, ::2] = 1\n",
    "    return matrix\n",
    "\n",
    "def exercise_2_iterative(n):\n",
    "    matrix = [[0 for _ in range(n)] for _ in range(n)]\n",
    "    for i in range(n):\n",
    "        for j in range(n):\n",
    "            if (i + j) % 2 == 1:\n",
    "                matrix[i][j] = 1\n",
    "    return np.array(matrix)\n",
    "\n",
    "n = int(input(\"Enter n: \"))\n",
    "\n",
    "start = time.time()\n",
    "result_numpy = exercise_2_numpy(n)\n",
    "time_numpy = time.time() - start\n",
    "\n",
    "start = time.time()\n",
    "result_iter = exercise_2_iterative(n)\n",
    "time_iter = time.time() - start\n",
    "\n",
    "print(\"NumPy result:\")\n",
    "print(result_numpy)\n",
    "print(f\"\\nNumPy time: {time_numpy:.6f}s\")\n",
    "print(f\"Iterative time: {time_iter:.6f}s\")\n",
    "print(f\"Speedup: {time_iter/time_numpy:.1f}x\")\n",
    "print(f\"\\nResults match: {np.allclose(result_numpy, result_iter)}\")"
   ]
  },
  {
   "cell_type": "markdown",
   "metadata": {},
   "source": [
    "### Exercise 3: Selective Row and Column Zeros\n",
    "\n",
    "**Task:** Enter 4 numbers n, m, r, c. Output an array of size n×m, in which in each r-th row and in each c-th column are 0, and other elements are equal to 1."
   ]
  },
  {
   "cell_type": "code",
   "execution_count": 48,
   "metadata": {},
   "outputs": [
    {
     "name": "stdin",
     "output_type": "stream",
     "text": [
      "Enter n:  6\n",
      "Enter m:  7\n",
      "Enter r:  2\n",
      "Enter c:  3\n"
     ]
    },
    {
     "name": "stdout",
     "output_type": "stream",
     "text": [
      "NumPy result:\n",
      "[[0 0 0 0 0 0 0]\n",
      " [0 1 1 0 1 1 0]\n",
      " [0 0 0 0 0 0 0]\n",
      " [0 1 1 0 1 1 0]\n",
      " [0 0 0 0 0 0 0]\n",
      " [0 1 1 0 1 1 0]]\n",
      "\n",
      "NumPy time: 0.005513s\n",
      "Iterative time: 0.000179s\n",
      "Speedup: 0.0x\n",
      "\n",
      "Results match: True\n"
     ]
    }
   ],
   "source": [
    "import numpy as np\n",
    "import time\n",
    "\n",
    "def exercise_3_numpy(n, m, r, c):\n",
    "    matrix = np.ones((n, m), dtype=int)\n",
    "    matrix[::r, :] = 0\n",
    "    matrix[:, ::c] = 0\n",
    "    return matrix\n",
    "\n",
    "def exercise_3_iterative(n, m, r, c):\n",
    "    matrix = [[1 for _ in range(m)] for _ in range(n)]\n",
    "    for i in range(n):\n",
    "        for j in range(m):\n",
    "            if i % r == 0 or j % c == 0:\n",
    "                matrix[i][j] = 0\n",
    "    return np.array(matrix)\n",
    "\n",
    "n = int(input(\"Enter n: \"))\n",
    "m = int(input(\"Enter m: \"))\n",
    "r = int(input(\"Enter r: \"))\n",
    "c = int(input(\"Enter c: \"))\n",
    "\n",
    "start = time.time()\n",
    "result_numpy = exercise_3_numpy(n, m, r, c)\n",
    "time_numpy = time.time() - start\n",
    "\n",
    "start = time.time()\n",
    "result_iter = exercise_3_iterative(n, m, r, c)\n",
    "time_iter = time.time() - start\n",
    "\n",
    "print(\"NumPy result:\")\n",
    "print(result_numpy)\n",
    "print(f\"\\nNumPy time: {time_numpy:.6f}s\")\n",
    "print(f\"Iterative time: {time_iter:.6f}s\")\n",
    "print(f\"Speedup: {time_iter/time_numpy:.1f}x\")\n",
    "print(f\"\\nResults match: {np.allclose(result_numpy, result_iter)}\")"
   ]
  },
  {
   "cell_type": "markdown",
   "metadata": {},
   "source": [
    "### Exercise 5: Even Row Indices Pattern\n",
    "\n",
    "**Task:** Enter the number n. Output an array of size n×n, in which the rows with the even indices are equal to 1, and in others are equal to 0."
   ]
  },
  {
   "cell_type": "code",
   "execution_count": 51,
   "metadata": {},
   "outputs": [
    {
     "name": "stdin",
     "output_type": "stream",
     "text": [
      "Enter n:  5\n"
     ]
    },
    {
     "name": "stdout",
     "output_type": "stream",
     "text": [
      "NumPy result:\n",
      "[[1 1 1 1 1]\n",
      " [0 0 0 0 0]\n",
      " [1 1 1 1 1]\n",
      " [0 0 0 0 0]\n",
      " [1 1 1 1 1]]\n",
      "\n",
      "NumPy time: 0.005534s\n",
      "Iterative time: 0.000348s\n",
      "Speedup: 0.1x\n",
      "\n",
      "Results match: True\n"
     ]
    }
   ],
   "source": [
    "import numpy as np\n",
    "import time\n",
    "\n",
    "def exercise_5_numpy(n):\n",
    "    matrix = np.zeros((n, n), dtype=int)\n",
    "    matrix[::2, :] = 1\n",
    "    return matrix\n",
    "\n",
    "def exercise_5_iterative(n):\n",
    "    matrix = [[0 for _ in range(n)] for _ in range(n)]\n",
    "    for i in range(n):\n",
    "        if i % 2 == 0:\n",
    "            for j in range(n):\n",
    "                matrix[i][j] = 1\n",
    "    return np.array(matrix)\n",
    "\n",
    "n = int(input(\"Enter n: \"))\n",
    "\n",
    "start = time.time()\n",
    "result_numpy = exercise_5_numpy(n)\n",
    "time_numpy = time.time() - start\n",
    "\n",
    "start = time.time()\n",
    "result_iter = exercise_5_iterative(n)\n",
    "time_iter = time.time() - start\n",
    "\n",
    "print(\"NumPy result:\")\n",
    "print(result_numpy)\n",
    "print(f\"\\nNumPy time: {time_numpy:.6f}s\")\n",
    "print(f\"Iterative time: {time_iter:.6f}s\")\n",
    "print(f\"Speedup: {time_iter/time_numpy:.1f}x\")\n",
    "print(f\"\\nResults match: {np.allclose(result_numpy, result_iter)}\")"
   ]
  },
  {
   "cell_type": "markdown",
   "metadata": {},
   "source": [
    "### Exercise 14: Checkerboard Using numpy.tile()\n",
    "\n",
    "**Task:** Arrange 1 and 0 on the 8×8 field in a checkerboard pattern using the numpy tile()."
   ]
  },
  {
   "cell_type": "code",
   "execution_count": 52,
   "metadata": {},
   "outputs": [
    {
     "name": "stdout",
     "output_type": "stream",
     "text": [
      "NumPy result:\n",
      "[[0 1 0 1 0 1 0 1]\n",
      " [1 0 1 0 1 0 1 0]\n",
      " [0 1 0 1 0 1 0 1]\n",
      " [1 0 1 0 1 0 1 0]\n",
      " [0 1 0 1 0 1 0 1]\n",
      " [1 0 1 0 1 0 1 0]\n",
      " [0 1 0 1 0 1 0 1]\n",
      " [1 0 1 0 1 0 1 0]]\n",
      "\n",
      "NumPy time: 0.002280s\n",
      "Iterative time: 0.000120s\n",
      "Speedup: 0.1x\n",
      "\n",
      "Results match: True\n"
     ]
    }
   ],
   "source": [
    "import numpy as np\n",
    "import time\n",
    "\n",
    "def exercise_14_numpy():\n",
    "    base = np.array([[0, 1], [1, 0]])\n",
    "    return np.tile(base, (4, 4))\n",
    "\n",
    "def exercise_14_iterative():\n",
    "    matrix = [[0 for _ in range(8)] for _ in range(8)]\n",
    "    for i in range(8):\n",
    "        for j in range(8):\n",
    "            if (i + j) % 2 == 1:\n",
    "                matrix[i][j] = 1\n",
    "    return np.array(matrix)\n",
    "\n",
    "start = time.time()\n",
    "result_numpy = exercise_14_numpy()\n",
    "time_numpy = time.time() - start\n",
    "\n",
    "start = time.time()\n",
    "result_iter = exercise_14_iterative()\n",
    "time_iter = time.time() - start\n",
    "\n",
    "print(\"NumPy result:\")\n",
    "print(result_numpy)\n",
    "print(f\"\\nNumPy time: {time_numpy:.6f}s\")\n",
    "print(f\"Iterative time: {time_iter:.6f}s\")\n",
    "print(f\"Speedup: {time_iter/time_numpy:.1f}x\")\n",
    "print(f\"\\nResults match: {np.allclose(result_numpy, result_iter)}\")"
   ]
  },
  {
   "cell_type": "markdown",
   "metadata": {},
   "source": [
    "### Exercise 17: Sign Reversal Based on Range\n",
    "\n",
    "**Task:** Fill the vector with values from 0 to n. Replace signs for all values less than n/2 and greater than 3n/4 to opposite ones."
   ]
  },
  {
   "cell_type": "code",
   "execution_count": 53,
   "metadata": {},
   "outputs": [
    {
     "name": "stdin",
     "output_type": "stream",
     "text": [
      "Enter n:  10\n"
     ]
    },
    {
     "name": "stdout",
     "output_type": "stream",
     "text": [
      "NumPy result:\n",
      "[  0  -1  -2  -3  -4   5   6   7  -8  -9 -10]\n",
      "\n",
      "NumPy time: 0.002424s\n",
      "Iterative time: 0.000209s\n",
      "Speedup: 0.1x\n",
      "\n",
      "Results match: True\n"
     ]
    }
   ],
   "source": [
    "import numpy as np\n",
    "import time\n",
    "\n",
    "def exercise_17_numpy(n):\n",
    "    vector = np.arange(n + 1)\n",
    "    mask = (vector < n/2) | (vector > 3*n/4)\n",
    "    vector[mask] = -vector[mask]\n",
    "    return vector\n",
    "\n",
    "def exercise_17_iterative(n):\n",
    "    vector = list(range(n + 1))\n",
    "    for i in range(len(vector)):\n",
    "        if vector[i] < n/2 or vector[i] > 3*n/4:\n",
    "            vector[i] = -vector[i]\n",
    "    return np.array(vector)\n",
    "\n",
    "n = int(input(\"Enter n: \"))\n",
    "\n",
    "start = time.time()\n",
    "result_numpy = exercise_17_numpy(n)\n",
    "time_numpy = time.time() - start\n",
    "\n",
    "start = time.time()\n",
    "result_iter = exercise_17_iterative(n)\n",
    "time_iter = time.time() - start\n",
    "\n",
    "print(\"NumPy result:\")\n",
    "print(result_numpy)\n",
    "print(f\"\\nNumPy time: {time_numpy:.6f}s\")\n",
    "print(f\"Iterative time: {time_iter:.6f}s\")\n",
    "print(f\"Speedup: {time_iter/time_numpy:.1f}x\")\n",
    "print(f\"\\nResults match: {np.allclose(result_numpy, result_iter)}\")"
   ]
  },
  {
   "cell_type": "markdown",
   "metadata": {},
   "source": [
    "### Exercise 18: Unique Elements Count\n",
    "\n",
    "**Task:** Generate a vector of n random numbers in the range from 0 to 99. Determine the number of unique elements in the sequence."
   ]
  },
  {
   "cell_type": "code",
   "execution_count": 54,
   "metadata": {},
   "outputs": [
    {
     "name": "stdin",
     "output_type": "stream",
     "text": [
      "Enter n:  30\n"
     ]
    },
    {
     "name": "stdout",
     "output_type": "stream",
     "text": [
      "Vector: [ 1 87 29 37  1 63 59 20 32 75 57 21 88 48 90 58 41 91 59 79 14 61 61 46\n",
      " 61 50 54 63  2 50]\n",
      "\n",
      "Unique elements (NumPy): 24\n",
      "Unique elements (Iterative): 24\n",
      "\n",
      "NumPy time: 0.008684s\n",
      "Iterative time: 0.000182s\n",
      "Speedup: 0.0x\n",
      "\n",
      "Results match: True\n"
     ]
    }
   ],
   "source": [
    "import numpy as np\n",
    "import time\n",
    "\n",
    "def exercise_18_numpy(n):\n",
    "    vector = np.random.randint(0, 100, n)\n",
    "    unique_count = len(np.unique(vector))\n",
    "    return vector, unique_count\n",
    "\n",
    "def exercise_18_iterative(vector):\n",
    "    unique_set = set()\n",
    "    for val in vector:\n",
    "        unique_set.add(val)\n",
    "    return len(unique_set)\n",
    "\n",
    "n = int(input(\"Enter n: \"))\n",
    "\n",
    "start = time.time()\n",
    "vector, count_numpy = exercise_18_numpy(n)\n",
    "time_numpy = time.time() - start\n",
    "\n",
    "start = time.time()\n",
    "count_iter = exercise_18_iterative(vector)\n",
    "time_iter = time.time() - start\n",
    "\n",
    "print(f\"Vector: {vector}\")\n",
    "print(f\"\\nUnique elements (NumPy): {count_numpy}\")\n",
    "print(f\"Unique elements (Iterative): {count_iter}\")\n",
    "print(f\"\\nNumPy time: {time_numpy:.6f}s\")\n",
    "print(f\"Iterative time: {time_iter:.6f}s\")\n",
    "print(f\"Speedup: {time_iter/time_numpy:.1f}x\")\n",
    "print(f\"\\nResults match: {count_numpy == count_iter}\")"
   ]
  },
  {
   "cell_type": "markdown",
   "metadata": {},
   "source": [
    "### Exercise 19: Evenly Spaced Values on Open Interval\n",
    "\n",
    "**Task:** Generate a vector of n elements that are evenly spaced on the interval (0,1) i.e. both ends of the interval are not included. Output values up to 3 decimal places.\n",
    "\n",
    "**Mathematical representation:**\n",
    "For $n$ points on open interval $(0, 1)$:\n",
    "$$\n",
    "x_i = \\frac{i+1}{n+1}, \\quad i = 0, 1, 2, \\ldots, n-1\n",
    "$$"
   ]
  },
  {
   "cell_type": "code",
   "execution_count": 55,
   "metadata": {},
   "outputs": [
    {
     "name": "stdin",
     "output_type": "stream",
     "text": [
      "Enter n:  10\n"
     ]
    },
    {
     "name": "stdout",
     "output_type": "stream",
     "text": [
      "NumPy result:\n",
      "[0.091 0.182 0.273 0.364 0.455 0.545 0.636 0.727 0.818 0.909]\n",
      "\n",
      "NumPy time: 0.002153s\n",
      "Iterative time: 0.000198s\n",
      "Speedup: 0.1x\n",
      "\n",
      "Results match: True\n"
     ]
    }
   ],
   "source": [
    "import numpy as np\n",
    "import time\n",
    "\n",
    "def exercise_19_numpy(n):\n",
    "    vector = np.linspace(0, 1, n + 2)[1:-1]\n",
    "    return np.round(vector, 3)\n",
    "\n",
    "def exercise_19_iterative(n):\n",
    "    vector = [(i + 1) / (n + 1) for i in range(n)]\n",
    "    return np.round(vector, 3)\n",
    "\n",
    "n = int(input(\"Enter n: \"))\n",
    "\n",
    "start = time.time()\n",
    "result_numpy = exercise_19_numpy(n)\n",
    "time_numpy = time.time() - start\n",
    "\n",
    "start = time.time()\n",
    "result_iter = exercise_19_iterative(n)\n",
    "time_iter = time.time() - start\n",
    "\n",
    "print(\"NumPy result:\")\n",
    "print(result_numpy)\n",
    "print(f\"\\nNumPy time: {time_numpy:.6f}s\")\n",
    "print(f\"Iterative time: {time_iter:.6f}s\")\n",
    "print(f\"Speedup: {time_iter/time_numpy:.1f}x\")\n",
    "print(f\"\\nResults match: {np.allclose(result_numpy, result_iter)}\")"
   ]
  },
  {
   "cell_type": "markdown",
   "metadata": {},
   "source": [
    "### Exercise 20: Replace Maximum with Zero\n",
    "\n",
    "**Task:** Generate a vector of n random elements, lying in the interval (0,1). Replace the maximum element with 0."
   ]
  },
  {
   "cell_type": "code",
   "execution_count": 56,
   "metadata": {},
   "outputs": [
    {
     "name": "stdin",
     "output_type": "stream",
     "text": [
      "Enter n:  5\n"
     ]
    },
    {
     "name": "stdout",
     "output_type": "stream",
     "text": [
      "Initial vector:\n",
      "[0.68  0.45  0.013 0.942 0.563]\n",
      "\n",
      "Modified vector:\n",
      "[0.68  0.45  0.013 0.    0.563]\n",
      "\n",
      "NumPy time: 0.003278s\n",
      "Iterative time: 0.000159s\n",
      "Speedup: 0.0x\n",
      "\n",
      "Results match: False\n"
     ]
    }
   ],
   "source": [
    "import numpy as np\n",
    "import time\n",
    "\n",
    "def exercise_20_numpy(n):\n",
    "    vector = np.random.rand(n)\n",
    "    initial = vector.copy()\n",
    "    max_idx = np.argmax(vector)\n",
    "    vector[max_idx] = 0\n",
    "    return initial, vector\n",
    "\n",
    "def exercise_20_iterative(n):\n",
    "    vector = np.random.rand(n)\n",
    "    initial = vector.copy()\n",
    "    max_idx = 0\n",
    "    for i in range(1, n):\n",
    "        if vector[i] > vector[max_idx]:\n",
    "            max_idx = i\n",
    "    vector[max_idx] = 0\n",
    "    return initial, vector\n",
    "\n",
    "n = int(input(\"Enter n: \"))\n",
    "\n",
    "start = time.time()\n",
    "initial_numpy, result_numpy = exercise_20_numpy(n)\n",
    "time_numpy = time.time() - start\n",
    "\n",
    "start = time.time()\n",
    "initial_iter, result_iter = exercise_20_iterative(n)\n",
    "time_iter = time.time() - start\n",
    "\n",
    "print(\"Initial vector:\")\n",
    "print(np.round(initial_numpy, 3))\n",
    "print(\"\\nModified vector:\")\n",
    "print(np.round(result_numpy, 3))\n",
    "print(f\"\\nNumPy time: {time_numpy:.6f}s\")\n",
    "print(f\"Iterative time: {time_iter:.6f}s\")\n",
    "print(f\"Speedup: {time_iter/time_numpy:.1f}x\")\n",
    "print(f\"\\nResults match: {np.allclose(result_numpy, result_iter)}\")"
   ]
  },
  {
   "cell_type": "markdown",
   "metadata": {},
   "source": [
    "### Exercise 21: Negate All Maximum Elements\n",
    "\n",
    "**Task:** Enter the numbers n and m. Generate a matrix n×n of random integer elements from 0 to m. Change the signs of all maximum elements to the opposite."
   ]
  },
  {
   "cell_type": "code",
   "execution_count": 57,
   "metadata": {},
   "outputs": [
    {
     "name": "stdin",
     "output_type": "stream",
     "text": [
      "Enter n:  4\n",
      "Enter m:  10\n"
     ]
    },
    {
     "name": "stdout",
     "output_type": "stream",
     "text": [
      "Initial matrix:\n",
      "[[7 2 0 3]\n",
      " [1 7 3 1]\n",
      " [5 5 9 3]\n",
      " [5 1 9 1]]\n",
      "\n",
      "Modified matrix:\n",
      "[[ 7  2  0  3]\n",
      " [ 1  7  3  1]\n",
      " [ 5  5 -9  3]\n",
      " [ 5  1 -9  1]]\n",
      "\n",
      "NumPy time: 0.008460s\n",
      "Iterative time: 0.000654s\n",
      "Speedup: 0.1x\n",
      "\n",
      "Results match: False\n"
     ]
    }
   ],
   "source": [
    "import numpy as np\n",
    "import time\n",
    "\n",
    "def exercise_21_numpy(n, m):\n",
    "    matrix = np.random.randint(0, m, (n, n))\n",
    "    initial = matrix.copy()\n",
    "    max_val = np.max(matrix)\n",
    "    matrix[matrix == max_val] = -max_val\n",
    "    return initial, matrix\n",
    "\n",
    "def exercise_21_iterative(n, m):\n",
    "    matrix = np.random.randint(0, m, (n, n))\n",
    "    initial = matrix.copy()\n",
    "    max_val = matrix[0][0]\n",
    "    for i in range(n):\n",
    "        for j in range(n):\n",
    "            if matrix[i][j] > max_val:\n",
    "                max_val = matrix[i][j]\n",
    "    for i in range(n):\n",
    "        for j in range(n):\n",
    "            if matrix[i][j] == max_val:\n",
    "                matrix[i][j] = -max_val\n",
    "    return initial, matrix\n",
    "\n",
    "n = int(input(\"Enter n: \"))\n",
    "m = int(input(\"Enter m: \"))\n",
    "\n",
    "start = time.time()\n",
    "initial_numpy, result_numpy = exercise_21_numpy(n, m)\n",
    "time_numpy = time.time() - start\n",
    "\n",
    "start = time.time()\n",
    "initial_iter, result_iter = exercise_21_iterative(n, m)\n",
    "time_iter = time.time() - start\n",
    "\n",
    "print(\"Initial matrix:\")\n",
    "print(initial_numpy)\n",
    "print(\"\\nModified matrix:\")\n",
    "print(result_numpy)\n",
    "print(f\"\\nNumPy time: {time_numpy:.6f}s\")\n",
    "print(f\"Iterative time: {time_iter:.6f}s\")\n",
    "print(f\"Speedup: {time_iter/time_numpy:.1f}x\")\n",
    "print(f\"\\nResults match: {np.allclose(result_numpy, result_iter)}\")"
   ]
  },
  {
   "cell_type": "markdown",
   "metadata": {},
   "source": [
    "## PART 2: Linear Equation System\n",
    "\n",
    "**Task:** Solve the following system of linear equations:\n",
    "\n",
    "$$\n",
    "\\begin{cases}\n",
    "x_1 + x_2 - x_3 - x_4 = 0 \\\\\n",
    "x_2 + 2x_3 - x_4 = 2 \\\\\n",
    "x_1 - x_2 - x_4 = -1 \\\\\n",
    "-x_1 + 3x_2 - 2x_3 = 0\n",
    "\\end{cases}\n",
    "$$\n",
    "\n",
    "**Methods:**\n",
    "1. Cramer's Rule\n",
    "2. Inverse Matrix Method\n",
    "3. numpy.linalg.solve()"
   ]
  },
  {
   "cell_type": "code",
   "execution_count": 32,
   "metadata": {},
   "outputs": [
    {
     "name": "stdout",
     "output_type": "stream",
     "text": [
      "Coefficient matrix A:\n",
      "[[ 1.  1. -1. -1.]\n",
      " [ 0.  1.  2. -1.]\n",
      " [ 1. -1.  0. -1.]\n",
      " [-1.  3. -2.  0.]]\n",
      "\n",
      "Right-hand side vector b:\n",
      "[ 0.  2. -1.  0.]\n"
     ]
    }
   ],
   "source": [
    "import numpy as np\n",
    "import time\n",
    "\n",
    "A = np.array([\n",
    "    [1,  1, -1, -1],\n",
    "    [0,  1,  2, -1],\n",
    "    [1, -1,  0, -1],\n",
    "    [-1, 3, -2,  0]\n",
    "], dtype=float)\n",
    "\n",
    "b = np.array([0, 2, -1, 0], dtype=float)\n",
    "\n",
    "print(\"Coefficient matrix A:\")\n",
    "print(A)\n",
    "print(\"\\nRight-hand side vector b:\")\n",
    "print(b)"
   ]
  },
  {
   "cell_type": "markdown",
   "metadata": {},
   "source": [
    "### Method 1: Cramer's Rule"
   ]
  },
  {
   "cell_type": "code",
   "execution_count": 33,
   "metadata": {},
   "outputs": [
    {
     "name": "stdout",
     "output_type": "stream",
     "text": [
      "========================================\n",
      "METHOD 1: CRAMER'S RULE\n",
      "========================================\n",
      "\n",
      "Determinant of A: -7.000000\n",
      "\n",
      "Solution:\n",
      "x1 = 1.000000\n",
      "x2 = 1.000000\n",
      "x3 = 1.000000\n",
      "x4 = 1.000000\n"
     ]
    }
   ],
   "source": [
    "import numpy as np\n",
    "import time\n",
    "\n",
    "def cramers_rule(A, b):\n",
    "    n = len(b)\n",
    "    det_A = np.linalg.det(A)\n",
    "    x = np.zeros(n)\n",
    "    for i in range(n):\n",
    "        A_i = A.copy()\n",
    "        A_i[:, i] = b\n",
    "        x[i] = np.linalg.det(A_i) / det_A\n",
    "    return x\n",
    "\n",
    "print(\"=\"*40)\n",
    "print(\"METHOD 1: CRAMER'S RULE\")\n",
    "print(\"=\"*40)\n",
    "\n",
    "x_cramer = cramers_rule(A, b)\n",
    "\n",
    "print(f\"\\nDeterminant of A: {np.linalg.det(A):.6f}\")\n",
    "print(\"\\nSolution:\")\n",
    "for i, val in enumerate(x_cramer, 1):\n",
    "    print(f\"x{i} = {val:.6f}\")"
   ]
  },
  {
   "cell_type": "markdown",
   "metadata": {},
   "source": [
    "### Verification 1: Matrix Multiplication"
   ]
  },
  {
   "cell_type": "code",
   "execution_count": 34,
   "metadata": {},
   "outputs": [
    {
     "name": "stdout",
     "output_type": "stream",
     "text": [
      "\n",
      "========================================\n",
      "VERIFICATION 1: MATRIX MULTIPLICATION\n",
      "========================================\n",
      "\n",
      "Computing Ax:\n",
      "A @ x = [-0.  2. -1. -0.]\n",
      "b     = [ 0.  2. -1.  0.]\n",
      "\n",
      "Match: True\n"
     ]
    }
   ],
   "source": [
    "import numpy as np\n",
    "import time\n",
    "\n",
    "print(\"\\n\" + \"=\"*40)\n",
    "print(\"VERIFICATION 1: MATRIX MULTIPLICATION\")\n",
    "print(\"=\"*40)\n",
    "\n",
    "b_check = A @ x_cramer\n",
    "\n",
    "print(\"\\nComputing Ax:\")\n",
    "print(f\"A @ x = {b_check}\")\n",
    "print(f\"b     = {b}\")\n",
    "print(f\"\\nMatch: {np.allclose(b_check, b)}\")"
   ]
  },
  {
   "cell_type": "markdown",
   "metadata": {},
   "source": [
    "### Method 2: Inverse Matrix"
   ]
  },
  {
   "cell_type": "code",
   "execution_count": 35,
   "metadata": {},
   "outputs": [
    {
     "name": "stdout",
     "output_type": "stream",
     "text": [
      "\n",
      "========================================\n",
      "METHOD 2: INVERSE MATRIX\n",
      "========================================\n",
      "\n",
      "Inverse matrix A^(-1):\n",
      "[[ 1.428571 -0.142857 -1.285714 -0.857143]\n",
      " [ 0.571429  0.142857 -0.714286 -0.142857]\n",
      " [ 0.142857  0.285714 -0.428571 -0.285714]\n",
      " [ 0.857143 -0.285714 -1.571429 -0.714286]]\n",
      "\n",
      "Solution:\n",
      "x1 = 1.000000\n",
      "x2 = 1.000000\n",
      "x3 = 1.000000\n",
      "x4 = 1.000000\n"
     ]
    }
   ],
   "source": [
    "import numpy as np\n",
    "import time\n",
    "\n",
    "print(\"\\n\" + \"=\"*40)\n",
    "print(\"METHOD 2: INVERSE MATRIX\")\n",
    "print(\"=\"*40)\n",
    "\n",
    "A_inv = np.linalg.inv(A)\n",
    "x_inv = A_inv @ b\n",
    "\n",
    "print(\"\\nInverse matrix A^(-1):\")\n",
    "print(A_inv)\n",
    "print(\"\\nSolution:\")\n",
    "for i, val in enumerate(x_inv, 1):\n",
    "    print(f\"x{i} = {val:.6f}\")"
   ]
  },
  {
   "cell_type": "markdown",
   "metadata": {},
   "source": [
    "### Verification 2: Inverse Matrix Check"
   ]
  },
  {
   "cell_type": "code",
   "execution_count": 36,
   "metadata": {},
   "outputs": [
    {
     "name": "stdout",
     "output_type": "stream",
     "text": [
      "\n",
      "========================================\n",
      "VERIFICATION 2: INVERSE MATRIX METHOD\n",
      "========================================\n",
      "\n",
      "Computing Ax:\n",
      "A @ x = [ 0.  2. -1.  0.]\n",
      "b     = [ 0.  2. -1.  0.]\n",
      "\n",
      "Match: True\n"
     ]
    }
   ],
   "source": [
    "import numpy as np\n",
    "import time\n",
    "\n",
    "print(\"\\n\" + \"=\"*40)\n",
    "print(\"VERIFICATION 2: INVERSE MATRIX METHOD\")\n",
    "print(\"=\"*40)\n",
    "\n",
    "b_check = A @ x_inv\n",
    "\n",
    "print(\"\\nComputing Ax:\")\n",
    "print(f\"A @ x = {b_check}\")\n",
    "print(f\"b     = {b}\")\n",
    "print(f\"\\nMatch: {np.allclose(b_check, b)}\")"
   ]
  },
  {
   "cell_type": "markdown",
   "metadata": {},
   "source": [
    "### Method 3: numpy.linalg.solve()"
   ]
  },
  {
   "cell_type": "code",
   "execution_count": 37,
   "metadata": {},
   "outputs": [
    {
     "name": "stdout",
     "output_type": "stream",
     "text": [
      "\n",
      "========================================\n",
      "METHOD 3: numpy.linalg.solve()\n",
      "========================================\n",
      "\n",
      "Solution:\n",
      "x1 = 1.000000\n",
      "x2 = 1.000000\n",
      "x3 = 1.000000\n",
      "x4 = 1.000000\n"
     ]
    }
   ],
   "source": [
    "import numpy as np\n",
    "import time\n",
    "\n",
    "print(\"\\n\" + \"=\"*40)\n",
    "print(\"METHOD 3: numpy.linalg.solve()\")\n",
    "print(\"=\"*40)\n",
    "\n",
    "x_solve = np.linalg.solve(A, b)\n",
    "\n",
    "print(\"\\nSolution:\")\n",
    "for i, val in enumerate(x_solve, 1):\n",
    "    print(f\"x{i} = {val:.6f}\")"
   ]
  },
  {
   "cell_type": "markdown",
   "metadata": {},
   "source": [
    "### Verification 3: np.linalg.solve() Check"
   ]
  },
  {
   "cell_type": "code",
   "execution_count": 38,
   "metadata": {},
   "outputs": [
    {
     "name": "stdout",
     "output_type": "stream",
     "text": [
      "\n",
      "========================================\n",
      "VERIFICATION 3: numpy.linalg.solve()\n",
      "========================================\n",
      "\n",
      "Computing Ax:\n",
      "A @ x = [ 0.  2. -1.  0.]\n",
      "b     = [ 0.  2. -1.  0.]\n",
      "\n",
      "Match: True\n"
     ]
    }
   ],
   "source": [
    "import numpy as np\n",
    "import time\n",
    "\n",
    "print(\"\\n\" + \"=\"*40)\n",
    "print(\"VERIFICATION 3: numpy.linalg.solve()\")\n",
    "print(\"=\"*40)\n",
    "\n",
    "b_check = A @ x_solve\n",
    "\n",
    "print(\"\\nComputing Ax:\")\n",
    "print(f\"A @ x = {b_check}\")\n",
    "print(f\"b     = {b}\")\n",
    "print(f\"\\nMatch: {np.allclose(b_check, b)}\")"
   ]
  },
  {
   "cell_type": "markdown",
   "metadata": {},
   "source": [
    "### Comparison of All Methods"
   ]
  },
  {
   "cell_type": "code",
   "execution_count": 39,
   "metadata": {},
   "outputs": [
    {
     "name": "stdout",
     "output_type": "stream",
     "text": [
      "\n",
      "========================================\n",
      "COMPARISON OF ALL METHODS\n",
      "========================================\n",
      "\n",
      "All methods produce the same result:\n",
      "Cramer vs Inverse: True\n",
      "Cramer vs Solve: True\n",
      "Inverse vs Solve: True\n",
      "\n",
      "Solution comparison:\n",
      "Variable  Cramer  Inverse  np.solve\n",
      "      x1     1.0      1.0       1.0\n",
      "      x2     1.0      1.0       1.0\n",
      "      x3     1.0      1.0       1.0\n",
      "      x4     1.0      1.0       1.0\n"
     ]
    }
   ],
   "source": [
    "import numpy as np\n",
    "import time\n",
    "import pandas as pd\n",
    "\n",
    "print(\"\\n\" + \"=\"*40)\n",
    "print(\"COMPARISON OF ALL METHODS\")\n",
    "print(\"=\"*40)\n",
    "\n",
    "print(\"\\nAll methods produce the same result:\")\n",
    "print(f\"Cramer vs Inverse: {np.allclose(x_cramer, x_inv)}\")\n",
    "print(f\"Cramer vs Solve: {np.allclose(x_cramer, x_solve)}\")\n",
    "print(f\"Inverse vs Solve: {np.allclose(x_inv, x_solve)}\")\n",
    "\n",
    "df = pd.DataFrame({\n",
    "    'Variable': [f'x{i}' for i in range(1, 5)],\n",
    "    'Cramer': x_cramer,\n",
    "    'Inverse': x_inv,\n",
    "    'np.solve': x_solve\n",
    "})\n",
    "\n",
    "print(\"\\nSolution comparison:\")\n",
    "print(df.to_string(index=False))"
   ]
  },
  {
   "cell_type": "markdown",
   "metadata": {},
   "source": [
    "## PART 3: Matrix Expression Evaluation\n",
    "\n",
    "**Task:** Calculate the value of the matrix expression:\n",
    "\n",
    "$$\n",
    "A(A^2 - B) - 2(B + A)B\n",
    "$$\n",
    "\n",
    "where:\n",
    "\n",
    "$$\n",
    "A = \\begin{pmatrix}\n",
    "2 & 3 & 1 \\\\\n",
    "-1 & 2 & 4 \\\\\n",
    "5 & 3 & 0\n",
    "\\end{pmatrix}, \\quad\n",
    "B = \\begin{pmatrix}\n",
    "2 & 7 & 13 \\\\\n",
    "-1 & 0 & 5 \\\\\n",
    "5 & 13 & 21\n",
    "\\end{pmatrix}\n",
    "$$"
   ]
  },
  {
   "cell_type": "code",
   "execution_count": 40,
   "metadata": {},
   "outputs": [
    {
     "name": "stdout",
     "output_type": "stream",
     "text": [
      "Matrix A:\n",
      "[[ 2.  3.  1.]\n",
      " [-1.  2.  4.]\n",
      " [ 5.  3.  0.]]\n",
      "\n",
      "Matrix B:\n",
      "[[ 2.  7. 13.]\n",
      " [-1.  0.  5.]\n",
      " [ 5. 13. 21.]]\n"
     ]
    }
   ],
   "source": [
    "import numpy as np\n",
    "import time\n",
    "\n",
    "A = np.array([\n",
    "    [2,  3, 1],\n",
    "    [-1, 2, 4],\n",
    "    [5,  3, 0]\n",
    "], dtype=float)\n",
    "\n",
    "B = np.array([\n",
    "    [2,  7, 13],\n",
    "    [-1, 0,  5],\n",
    "    [5, 13, 21]\n",
    "], dtype=float)\n",
    "\n",
    "print(\"Matrix A:\")\n",
    "print(A)\n",
    "print(\"\\nMatrix B:\")\n",
    "print(B)"
   ]
  },
  {
   "cell_type": "markdown",
   "metadata": {},
   "source": [
    "### NumPy Implementation"
   ]
  },
  {
   "cell_type": "code",
   "execution_count": 41,
   "metadata": {},
   "outputs": [
    {
     "name": "stdout",
     "output_type": "stream",
     "text": [
      "========================================\n",
      "NUMPY IMPLEMENTATION\n",
      "========================================\n",
      "\n",
      "Result:\n",
      "[[  -75.  -357.  -788.]\n",
      " [  -40.  -156.  -359.]\n",
      " [ -147.  -607. -1291.]]\n",
      "\n",
      "Time: 0.003694s\n"
     ]
    }
   ],
   "source": [
    "import numpy as np\n",
    "import time\n",
    "\n",
    "def matrix_expression_numpy(A, B):\n",
    "    A2 = A @ A\n",
    "    term1 = A @ (A2 - B)\n",
    "    term2 = 2 * (B + A) @ B\n",
    "    result = term1 - term2\n",
    "    return result\n",
    "\n",
    "print(\"=\"*40)\n",
    "print(\"NUMPY IMPLEMENTATION\")\n",
    "print(\"=\"*40)\n",
    "\n",
    "start = time.time()\n",
    "result_numpy = matrix_expression_numpy(A, B)\n",
    "time_numpy = time.time() - start\n",
    "\n",
    "print(\"\\nResult:\")\n",
    "print(result_numpy)\n",
    "print(f\"\\nTime: {time_numpy:.6f}s\")"
   ]
  },
  {
   "cell_type": "markdown",
   "metadata": {},
   "source": [
    "### Iterative Implementation"
   ]
  },
  {
   "cell_type": "code",
   "execution_count": 42,
   "metadata": {},
   "outputs": [
    {
     "name": "stdout",
     "output_type": "stream",
     "text": [
      "========================================\n",
      "ITERATIVE IMPLEMENTATION\n",
      "========================================\n",
      "\n",
      "Result:\n",
      "[[  -75.  -357.  -788.]\n",
      " [  -40.  -156.  -359.]\n",
      " [ -147.  -607. -1291.]]\n",
      "\n",
      "Time: 0.000177s\n"
     ]
    }
   ],
   "source": [
    "import numpy as np\n",
    "import time\n",
    "\n",
    "def matrix_multiply(X, Y):\n",
    "    n, m = len(X), len(X[0])\n",
    "    m2, p = len(Y), len(Y[0])\n",
    "    result = [[0 for _ in range(p)] for _ in range(n)]\n",
    "    for i in range(n):\n",
    "        for j in range(p):\n",
    "            for k in range(m):\n",
    "                result[i][j] += X[i][k] * Y[k][j]\n",
    "    return result\n",
    "\n",
    "def matrix_add(X, Y):\n",
    "    n, m = len(X), len(X[0])\n",
    "    result = [[0 for _ in range(m)] for _ in range(n)]\n",
    "    for i in range(n):\n",
    "        for j in range(m):\n",
    "            result[i][j] = X[i][j] + Y[i][j]\n",
    "    return result\n",
    "\n",
    "def matrix_subtract(X, Y):\n",
    "    n, m = len(X), len(X[0])\n",
    "    result = [[0 for _ in range(m)] for _ in range(n)]\n",
    "    for i in range(n):\n",
    "        for j in range(m):\n",
    "            result[i][j] = X[i][j] - Y[i][j]\n",
    "    return result\n",
    "\n",
    "def scalar_multiply(scalar, X):\n",
    "    n, m = len(X), len(X[0])\n",
    "    result = [[0 for _ in range(m)] for _ in range(n)]\n",
    "    for i in range(n):\n",
    "        for j in range(m):\n",
    "            result[i][j] = scalar * X[i][j]\n",
    "    return result\n",
    "\n",
    "def matrix_expression_iterative(A, B):\n",
    "    A_list = A.tolist()\n",
    "    B_list = B.tolist()\n",
    "    \n",
    "    A2 = matrix_multiply(A_list, A_list)\n",
    "    A2_minus_B = matrix_subtract(A2, B_list)\n",
    "    term1 = matrix_multiply(A_list, A2_minus_B)\n",
    "    \n",
    "    B_plus_A = matrix_add(B_list, A_list)\n",
    "    B_plus_A_times_B = matrix_multiply(B_plus_A, B_list)\n",
    "    term2 = scalar_multiply(2, B_plus_A_times_B)\n",
    "    \n",
    "    result = matrix_subtract(term1, term2)\n",
    "    return np.array(result)\n",
    "\n",
    "print(\"=\"*40)\n",
    "print(\"ITERATIVE IMPLEMENTATION\")\n",
    "print(\"=\"*40)\n",
    "\n",
    "start = time.time()\n",
    "result_iter = matrix_expression_iterative(A, B)\n",
    "time_iter = time.time() - start\n",
    "\n",
    "print(\"\\nResult:\")\n",
    "print(result_iter)\n",
    "print(f\"\\nTime: {time_iter:.6f}s\")"
   ]
  },
  {
   "cell_type": "markdown",
   "metadata": {},
   "source": [
    "### Comparison"
   ]
  },
  {
   "cell_type": "code",
   "execution_count": 43,
   "metadata": {},
   "outputs": [
    {
     "name": "stdout",
     "output_type": "stream",
     "text": [
      "\n",
      "========================================\n",
      "COMPARISON\n",
      "========================================\n",
      "\n",
      "Results match: True\n",
      "\n",
      "NumPy time: 0.003694s\n",
      "Iterative time: 0.000177s\n",
      "Speedup: 0.0x\n"
     ]
    }
   ],
   "source": [
    "import numpy as np\n",
    "import time\n",
    "\n",
    "print(\"\\n\" + \"=\"*40)\n",
    "print(\"COMPARISON\")\n",
    "print(\"=\"*40)\n",
    "\n",
    "print(f\"\\nResults match: {np.allclose(result_numpy, result_iter)}\")\n",
    "print(f\"\\nNumPy time: {time_numpy:.6f}s\")\n",
    "print(f\"Iterative time: {time_iter:.6f}s\")\n",
    "print(f\"Speedup: {time_iter/time_numpy:.1f}x\")"
   ]
  },
  {
   "cell_type": "code",
   "execution_count": null,
   "metadata": {},
   "outputs": [],
   "source": []
  }
 ],
 "metadata": {
  "kernelspec": {
   "display_name": "Python [conda env:base] *",
   "language": "python",
   "name": "conda-base-py"
  },
  "language_info": {
   "codemirror_mode": {
    "name": "ipython",
    "version": 3
   },
   "file_extension": ".py",
   "mimetype": "text/x-python",
   "name": "python",
   "nbconvert_exporter": "python",
   "pygments_lexer": "ipython3",
   "version": "3.13.5"
  }
 },
 "nbformat": 4,
 "nbformat_minor": 4
}
